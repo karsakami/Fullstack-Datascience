{
  "nbformat": 4,
  "nbformat_minor": 0,
  "metadata": {
    "colab": {
      "provenance": [],
      "authorship_tag": "ABX9TyPrfplDin+orONmzC0acDIi",
      "include_colab_link": true
    },
    "kernelspec": {
      "name": "python3",
      "display_name": "Python 3"
    },
    "language_info": {
      "name": "python"
    }
  },
  "cells": [
    {
      "cell_type": "markdown",
      "metadata": {
        "id": "view-in-github",
        "colab_type": "text"
      },
      "source": [
        "<a href=\"https://colab.research.google.com/github/karsakami/Fullstack-Datascience/blob/main/Ensemble_techniques.ipynb\" target=\"_parent\"><img src=\"https://colab.research.google.com/assets/colab-badge.svg\" alt=\"Open In Colab\"/></a>"
      ]
    },
    {
      "cell_type": "markdown",
      "source": [
        "###**Ensemble techniques** are a group of machine learning algorithms that involve combining the results of several different models to achieve better predictive performance than using a single model.\n",
        "\n",
        "###There are different types of ensemble techniques, but the most popular ones include:\n",
        "\n",
        "* **Bagging** (Bootstrap Aggregating) - which involves creating multiple bootstrap samples from the training dataset and training models on each of these samples, then combining their results.\n",
        "\n",
        "* **Boosting** - which involves training many weak models that are combined sequentially, with each subsequent model attempting to improve on the results of the previous one.\n",
        "\n",
        "* **Stacking** - which involves training several different models on the same training dataset and combining their results using another model, called a meta-model.\n",
        "\n",
        "By using ensemble techniques, it is possible to achieve better predictive performance than using a single model. In particular, ensemble techniques are effective for problems where a single model has low accuracy or complexity.\n",
        "\n",
        "\n"
      ],
      "metadata": {
        "id": "DYygeovpv2On"
      }
    }
  ]
}